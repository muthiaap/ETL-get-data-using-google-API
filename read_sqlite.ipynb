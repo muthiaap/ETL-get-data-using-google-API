{
 "cells": [
  {
   "cell_type": "code",
   "execution_count": 1,
   "metadata": {},
   "outputs": [
    {
     "name": "stdout",
     "output_type": "stream",
     "text": [
      "        id   name    phone_number   born_date\n",
      "0  ab10212  Blair  +6281883494035  1987-11-20\n",
      "1  ab10213   Kurt  +6281615589027  1991-04-06\n",
      "2  ab10214  Brain  +6281429780440  1992-04-13\n",
      "3  ab10215   Seth  +6281716992765  1989-01-04\n",
      "4  ab10216  Madge  +6281902482399  1990-08-11\n"
     ]
    }
   ],
   "source": [
    "import sqlite3\n",
    "import pandas as pd\n",
    "\n",
    "conn = sqlite3.connect(\"./database/etl_data.db\")\n",
    "df = pd.read_sql(\"SELECT * FROM born_date_data\", conn)\n",
    "print(df.head())\n",
    "conn.close()"
   ]
  },
  {
   "cell_type": "code",
   "execution_count": null,
   "metadata": {},
   "outputs": [],
   "source": []
  }
 ],
 "metadata": {
  "kernelspec": {
   "display_name": "venv",
   "language": "python",
   "name": "python3"
  },
  "language_info": {
   "codemirror_mode": {
    "name": "ipython",
    "version": 3
   },
   "file_extension": ".py",
   "mimetype": "text/x-python",
   "name": "python",
   "nbconvert_exporter": "python",
   "pygments_lexer": "ipython3",
   "version": "3.10.13"
  }
 },
 "nbformat": 4,
 "nbformat_minor": 2
}
