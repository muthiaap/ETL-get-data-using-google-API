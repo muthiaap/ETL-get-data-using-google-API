{
 "cells": [
  {
   "cell_type": "code",
   "execution_count": 48,
   "metadata": {},
   "outputs": [
    {
     "name": "stdout",
     "output_type": "stream",
     "text": [
      "Download 100%.\n",
      "File 'Take Home Test Data Engineer Baskit.xlsx' downloaded successfully to '/Users/muthia_ap/Documents/find_my_way/Baskit/data/'.\n"
     ]
    }
   ],
   "source": [
    "from googleapiclient.discovery import build\n",
    "from google.oauth2 import service_account\n",
    "from googleapiclient.http import MediaIoBaseDownload\n",
    "import io\n",
    "\n",
    "def download_file_from_drive(file_id, credentials_file, save_path):\n",
    "    \"\"\"Downloads a file from Google Drive using a service account.\"\"\"\n",
    "\n",
    "    SCOPES = ['https://www.googleapis.com/auth/drive.readonly'] \n",
    "\n",
    "    creds = service_account.Credentials.from_service_account_file(\n",
    "        credentials_file, scopes=SCOPES)\n",
    "\n",
    "    try:\n",
    "        service = build('drive', 'v3', credentials=creds)\n",
    "\n",
    "        # Get the file metadata\n",
    "        file_metadata = service.files().get(fileId=file_id).execute()\n",
    "        file_name = file_metadata.get('name')\n",
    "        mime_type = file_metadata.get('mimeType')\n",
    "\n",
    "        # Download the file\n",
    "        request = service.files().get_media(fileId=file_id)\n",
    "        fh = io.BytesIO()\n",
    "        downloader = MediaIoBaseDownload(fh, request)\n",
    "        done = False\n",
    "        while done is False:\n",
    "            status, done = downloader.next_chunk()\n",
    "            print(f\"Download {int(status.progress() * 100)}%.\")\n",
    "\n",
    "        # Save the file\n",
    "        with open(save_path + file_name, 'wb') as f:\n",
    "            f.write(fh.getvalue())\n",
    "\n",
    "        print(f\"File '{file_name}' downloaded successfully to '{save_path}'.\")\n",
    "\n",
    "    except Exception as e:\n",
    "        print(f\"An error occurred: {e}\")\n",
    "\n",
    "# Example usage:\n",
    "file_id = '1qFFZXFNsVLargf5AtRCbR0vPeQRjeoz8'  # Replace with the file ID from Google Drive\n",
    "credentials_file = '/Users/muthia_ap/Documents/find_my_way/Baskit/config/elevated-valve-454202-n0-bf831559f8c6.json' # replace with your credentials file name\n",
    "save_path = '/Users/muthia_ap/Documents/find_my_way/Baskit/data/'  # Replace with the desired save path\n",
    "\n",
    "download_file_from_drive(file_id, credentials_file, save_path)"
   ]
  },
  {
   "cell_type": "code",
   "execution_count": null,
   "metadata": {},
   "outputs": [],
   "source": []
  },
  {
   "cell_type": "code",
   "execution_count": null,
   "metadata": {},
   "outputs": [],
   "source": []
  },
  {
   "cell_type": "code",
   "execution_count": null,
   "metadata": {},
   "outputs": [],
   "source": []
  },
  {
   "cell_type": "code",
   "execution_count": null,
   "metadata": {},
   "outputs": [],
   "source": []
  },
  {
   "cell_type": "code",
   "execution_count": 57,
   "metadata": {},
   "outputs": [],
   "source": [
    "import gspread\n",
    "import pandas as pd\n",
    "import sqlite3\n",
    "import io\n",
    "from googleapiclient.discovery import build\n",
    "from google.oauth2 import service_account\n",
    "from googleapiclient.http import MediaIoBaseDownload\n",
    "from oauth2client.service_account import ServiceAccountCredentials"
   ]
  },
  {
   "cell_type": "code",
   "execution_count": 58,
   "metadata": {},
   "outputs": [],
   "source": [
    "def download_file_from_drive(file_id, credentials_file, save_path):\n",
    "    \"\"\"Downloads a file from Google Drive using a service account.\"\"\"\n",
    "    SCOPES = ['https://www.googleapis.com/auth/drive.readonly'] \n",
    "    creds = service_account.Credentials.from_service_account_file(\n",
    "        credentials_file, scopes=SCOPES)\n",
    "    \n",
    "    try:\n",
    "        service = build('drive', 'v3', credentials=creds)\n",
    "        \n",
    "        # Get the file metadata\n",
    "        file_metadata = service.files().get(fileId=file_id).execute()\n",
    "        file_name = file_metadata.get('name')\n",
    "        \n",
    "        # Download the file\n",
    "        request = service.files().get_media(fileId=file_id)\n",
    "        fh = io.BytesIO()\n",
    "        downloader = MediaIoBaseDownload(fh, request)\n",
    "        done = False\n",
    "        while not done:\n",
    "            status, done = downloader.next_chunk()\n",
    "            print(f\"Download {int(status.progress() * 100)}%.\")\n",
    "\n",
    "        # Save the file\n",
    "        full_path = save_path + file_name\n",
    "        with open(full_path, 'wb') as f:\n",
    "            f.write(fh.getvalue())\n",
    "        \n",
    "        print(f\"File '{file_name}' downloaded successfully to '{save_path}'.\")\n",
    "        return full_path\n",
    "    \n",
    "    except Exception as e:\n",
    "        print(f\"An error occurred: {e}\")\n",
    "        return None"
   ]
  },
  {
   "cell_type": "code",
   "execution_count": 59,
   "metadata": {},
   "outputs": [],
   "source": [
    "def extract_from_google_sheets(sheet_path, sheet_name):\n",
    "    \"\"\"Extract data from a local Excel file\"\"\"\n",
    "    try:\n",
    "        df = pd.read_excel(sheet_path, sheet_name=sheet_name, skiprows=1)\n",
    "        return df\n",
    "    except Exception as e:\n",
    "        print(f\"An error occurred while reading the Excel file: {e}\")\n",
    "        return None"
   ]
  },
  {
   "cell_type": "code",
   "execution_count": 60,
   "metadata": {},
   "outputs": [],
   "source": [
    "def transform_data(df):\n",
    "    \"\"\"Transform the extracted data\"\"\"\n",
    "    # Rename columns to snake_case\n",
    "    df.rename(columns={\"born_day\": \"born_date\"}, inplace=True)\n",
    "    \n",
    "    # Standardize date format\n",
    "    df[\"born_date\"] = pd.to_datetime(df[\"born_date\"], errors='coerce').dt.strftime(\"%Y-%m-%d\")\n",
    "    \n",
    "    # Standardize phone number format\n",
    "    df[\"phone_number\"] = df[\"phone_number\"].astype(str).apply(\n",
    "        lambda x: \"+62\" + x.lstrip(\"0\") if not x.startswith(\"62\") else \"+\" + x)\n",
    "    \n",
    "    # Remove duplicates\n",
    "    df.drop_duplicates(inplace=True)\n",
    "    \n",
    "    return df"
   ]
  },
  {
   "cell_type": "code",
   "execution_count": 61,
   "metadata": {},
   "outputs": [],
   "source": [
    "def load_to_sqlite(df, db_path, table_name):\n",
    "    \"\"\"Load the transformed data into SQLite\"\"\"\n",
    "    conn = sqlite3.connect(db_path)\n",
    "    df.to_sql(table_name, conn, if_exists='replace', index=False)\n",
    "    conn.close()\n"
   ]
  },
  {
   "cell_type": "code",
   "execution_count": 62,
   "metadata": {},
   "outputs": [
    {
     "name": "stdout",
     "output_type": "stream",
     "text": [
      "Downloading file from Google Drive...\n",
      "Download 100%.\n",
      "File 'Take Home Test Data Engineer Baskit.xlsx' downloaded successfully to './data/'.\n",
      "Extracting data from the downloaded Excel file...\n",
      "Transforming data...\n",
      "Loading data into SQLite...\n",
      "ETL Process Completed!\n"
     ]
    }
   ],
   "source": [
    "def main():\n",
    "    \"\"\"Main ETL Process\"\"\"\n",
    "    SHEET_NAME = \"data\"  # Adjust if different\n",
    "    CREDS_PATH = \"/Users/muthia_ap/Documents/find_my_way/Baskit/config/elevated-valve-454202-n0-bf831559f8c6.json\"  # Update with your actual path\n",
    "    DB_PATH = \"etl_data.db\"\n",
    "    TABLE_NAME = \"born_date_data\"\n",
    "    DRIVE_FILE_ID = \"1qFFZXFNsVLargf5AtRCbR0vPeQRjeoz8\"  # Add your Google Drive file ID\n",
    "    SAVE_PATH = \"./data/\"  # Path where the file will be saved\n",
    "    \n",
    "    print(\"Downloading file from Google Drive...\")\n",
    "    downloaded_file = download_file_from_drive(DRIVE_FILE_ID, CREDS_PATH, SAVE_PATH)\n",
    "    if not downloaded_file:\n",
    "        print(\"Failed to download the file. Exiting process.\")\n",
    "        return\n",
    "    \n",
    "    print(\"Extracting data from the downloaded Excel file...\")\n",
    "    df = extract_from_google_sheets(downloaded_file, SHEET_NAME)\n",
    "    if df is None:\n",
    "        print(\"Failed to extract data. Exiting process.\")\n",
    "        return\n",
    "    \n",
    "    print(\"Transforming data...\")\n",
    "    df = transform_data(df)\n",
    "    \n",
    "    print(\"Loading data into SQLite...\")\n",
    "    load_to_sqlite(df, DB_PATH, TABLE_NAME)\n",
    "    \n",
    "    print(\"ETL Process Completed!\")\n",
    "\n",
    "if __name__ == \"__main__\":\n",
    "    main()"
   ]
  },
  {
   "cell_type": "code",
   "execution_count": null,
   "metadata": {},
   "outputs": [],
   "source": []
  },
  {
   "cell_type": "code",
   "execution_count": null,
   "metadata": {},
   "outputs": [],
   "source": []
  },
  {
   "cell_type": "code",
   "execution_count": null,
   "metadata": {},
   "outputs": [],
   "source": []
  },
  {
   "cell_type": "code",
   "execution_count": null,
   "metadata": {},
   "outputs": [],
   "source": []
  },
  {
   "cell_type": "code",
   "execution_count": null,
   "metadata": {},
   "outputs": [],
   "source": []
  }
 ],
 "metadata": {
  "kernelspec": {
   "display_name": "venv",
   "language": "python",
   "name": "python3"
  },
  "language_info": {
   "codemirror_mode": {
    "name": "ipython",
    "version": 3
   },
   "file_extension": ".py",
   "mimetype": "text/x-python",
   "name": "python",
   "nbconvert_exporter": "python",
   "pygments_lexer": "ipython3",
   "version": "3.10.13"
  }
 },
 "nbformat": 4,
 "nbformat_minor": 2
}
